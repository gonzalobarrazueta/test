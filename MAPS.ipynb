{
  "nbformat": 4,
  "nbformat_minor": 0,
  "metadata": {
    "colab": {
      "name": "MAPS.ipynb",
      "provenance": [],
      "collapsed_sections": [
        "rxPsDAM35t5d"
      ],
      "authorship_tag": "ABX9TyNJcrKsyiGzts2HSyiqEWa2",
      "include_colab_link": true
    },
    "kernelspec": {
      "name": "python3",
      "display_name": "Python 3"
    },
    "language_info": {
      "name": "python"
    }
  },
  "cells": [
    {
      "cell_type": "markdown",
      "metadata": {
        "id": "view-in-github",
        "colab_type": "text"
      },
      "source": [
        "<a href=\"https://colab.research.google.com/github/gonzalobarrazueta/test/blob/main/MAPS.ipynb\" target=\"_parent\"><img src=\"https://colab.research.google.com/assets/colab-badge.svg\" alt=\"Open In Colab\"/></a>"
      ]
    },
    {
      "cell_type": "markdown",
      "source": [
        "###**Crear diccionario de calles**\n",
        "El archivo .csv contiene el `id` que le corresponde a cada calle. Guardo los datos en un diccionario llamado `streetsDicitonary`"
      ],
      "metadata": {
        "id": "F1p7UhsvkRNT"
      }
    },
    {
      "cell_type": "code",
      "source": [
        "import csv\n",
        "import json"
      ],
      "metadata": {
        "id": "UTrneN9hkUIW"
      },
      "execution_count": 16,
      "outputs": []
    },
    {
      "cell_type": "code",
      "source": [
        "def addKey_Values(dictionary, key, value):\n",
        "    dictionary[key] = value"
      ],
      "metadata": {
        "id": "qvn_alN-9gkk"
      },
      "execution_count": 17,
      "outputs": []
    },
    {
      "cell_type": "code",
      "source": [
        "def cargarDatos(dictionary):\n",
        "    with open('Calles de San Martín de Porres.csv') as file: \n",
        "        reader = csv.reader(file)\n",
        "        \n",
        "        streetId = 0\n",
        "        for row in reader:\n",
        "            addKey_Values(dictionary, row[0].lower(), streetId)\n",
        "            streetId += 1"
      ],
      "metadata": {
        "id": "aBWrVHPpFxBC"
      },
      "execution_count": 18,
      "outputs": []
    },
    {
      "cell_type": "code",
      "source": [
        "def createStreetsDictionary():\n",
        "    streets = {}\n",
        "    # carga datos al diccionario 'streets'\n",
        "    cargarDatos(streets)\n",
        "\n",
        "    streets_pretty = json.dumps(streets, indent=2)\n",
        "    print(streets_pretty)\n",
        "    \n",
        "    return streets"
      ],
      "metadata": {
        "id": "HQAcMl46rQlA"
      },
      "execution_count": 19,
      "outputs": []
    },
    {
      "cell_type": "code",
      "source": [
        "streetsDictionary = createStreetsDictionary()"
      ],
      "metadata": {
        "id": "KjmA0jq_Im3f"
      },
      "execution_count": null,
      "outputs": []
    },
    {
      "cell_type": "markdown",
      "source": [
        "###**Crear Lista de Adyacencia para las calles y sus intersecciones**\n",
        "* -1 significa que la calle aún no está mapeada\n",
        "\n"
      ],
      "metadata": {
        "id": "J0b-KrPix_58"
      }
    },
    {
      "cell_type": "code",
      "source": [
        "def getLastValueInDictionary():\n",
        "    lastStreet = list(streetsDictionary.keys())[-1]\n",
        "    id = streetsDictionary[lastStreet]\n",
        "    return id"
      ],
      "metadata": {
        "id": "UUkLZJa82Rrd"
      },
      "execution_count": 21,
      "outputs": []
    },
    {
      "cell_type": "code",
      "source": [
        "def streetExists(streetName):\n",
        "    if streetName in streetsDictionary:\n",
        "        s = streetsDictionary[streetName]\n",
        "    else:\n",
        "        s = -1\n",
        "        # agrega la calle al final del diccionario, si no existe\n",
        "        #s = getLastValueInDictionary() + 1\n",
        "        #streetsDictionary[streetName] = s\n",
        "    return s"
      ],
      "metadata": {
        "id": "5hBrXQFU4geG"
      },
      "execution_count": 22,
      "outputs": []
    },
    {
      "cell_type": "code",
      "source": [
        "def getAmountOfIntersections(graph):\n",
        "    totalIntersections = 0\n",
        "    for intersections in graph:\n",
        "        for i in range(len(intersections)):\n",
        "            if (intersections[i] != -1):\n",
        "                totalIntersections += 1\n",
        "        #totalIntersections += len(intersections)\n",
        "    \n",
        "    print(totalIntersections)\n",
        "\n",
        "def printAdList(graph):\n",
        "    print(f\"n = {len(intersectionsAdList)}\")\n",
        "    i = 0\n",
        "    for intersection in intersectionsAdList:\n",
        "        print(i, intersection)\n",
        "        i += 1"
      ],
      "metadata": {
        "id": "Gaop7miPqVSA"
      },
      "execution_count": 23,
      "outputs": []
    },
    {
      "cell_type": "code",
      "source": [
        "# adjacencyList: arreglo de arreglos, donde la pos del primer elemento (1er arreglo)\n",
        "# es la calle y el arreglo son todas las calles con las que se intersecta\n",
        "def createAdjacencyList(adjacencyList):\n",
        "    with open('Calles de San Martín de Porres.csv') as file: \n",
        "        reader = csv.reader(file)\n",
        "\n",
        "        # Leo línea por línea\n",
        "        for row in reader:  \n",
        "            intersections = []\n",
        "            for i in range(len(row)):\n",
        "                if i != 0:\n",
        "                    intersections.append(streetExists(row[i].lower()))\n",
        "\n",
        "            adjacencyList.append(intersections)\n",
        "\n",
        "    #for intersection in adjacencyList:\n",
        "    #    print(intersection, end='\\n')\n",
        "    return adjacencyList\n",
        "\n",
        "intersectionsAdList = createAdjacencyList([])\n",
        "\n",
        "getAmountOfIntersections(intersectionsAdList)\n",
        "printAdList(intersectionsAdList)"
      ],
      "metadata": {
        "id": "ZTtbPcxvVxvy"
      },
      "execution_count": null,
      "outputs": []
    },
    {
      "cell_type": "markdown",
      "source": [
        "###**Lista de adyacencia de las intersecciones de intersecciones**"
      ],
      "metadata": {
        "id": "rxPsDAM35t5d"
      }
    },
    {
      "cell_type": "code",
      "source": [
        "# sirve para crear las intersecciones, como keys, en un diccionario\n",
        "# si las keys aún no han sido creadas, las agrega al diccionario\n",
        "def createKeys(graph):\n",
        "\n",
        "    intersectionsIDs = {}\n",
        "\n",
        "    for i in range(len(graph)):\n",
        "        for street in graph[i]:\n",
        "            if (i, street) not in intersectionsIDs and street != -1:\n",
        "                intersectionsIDs[(i, street)] = []\n",
        "\n",
        "    return intersectionsIDs"
      ],
      "metadata": {
        "id": "LCoD5Unynb4n"
      },
      "execution_count": 26,
      "outputs": []
    },
    {
      "cell_type": "code",
      "source": [
        "def addIntersections(graph, i, j):  \n",
        "    \n",
        "    street = graph[i][j]\n",
        "\n",
        "    if street != -1:\n",
        "        # agrego 1 a la izquierda\n",
        "        if j > 0 and graph[i][j - 1] != -1:\n",
        "            tup = (i, graph[i][j - 1])\n",
        "            map[(i, street)].append(tup)\n",
        "\n",
        "        # agrego 1 a la derecha\n",
        "        if j < len(graph[i]) - 1 and graph[i][j + 1] != -1:\n",
        "            tup = (i, graph[i][j + 1])\n",
        "            map[(i, street)].append(tup)"
      ],
      "metadata": {
        "id": "1qBKJ3lsAg2O"
      },
      "execution_count": 27,
      "outputs": []
    },
    {
      "cell_type": "code",
      "source": [
        "def addIntersectionsReversed(graph, i, j):  \n",
        "    #    0  1   2 \n",
        "    # 0 [3, 5, 17]\n",
        "\n",
        "    # 3 [7, 14, 0, 25]\n",
        "\n",
        "    street = graph[i][j] # street = 3\n",
        "\n",
        "    # ahora voy al reverso de la lista\n",
        "\n",
        "    if i != -1 and street != -1:\n",
        "        #preguntar si i existe en 3\n",
        "        if (street < len(graph)) and (i in graph[street]):\n",
        "            tup = (street, i)\n",
        "            map[(i, street)].append(tup)\n",
        "            \n",
        "            # encuentro el índice de 0\n",
        "            k = graph[street].index(i) # k = 2\n",
        "\n",
        "            if k > 0 and graph[street][k - 1] != -1:\n",
        "                tup = (street, graph[street][k - 1])\n",
        "                map[(i, street)].append(tup)\n",
        "        \n",
        "            if k < len(graph[street]) - 1 and graph[street][k + 1] != -1:\n",
        "                tup = (street, graph[street][k + 1])\n",
        "                map[(i, street)].append(tup)"
      ],
      "metadata": {
        "id": "S9CGv6Fy-CN9"
      },
      "execution_count": 28,
      "outputs": []
    },
    {
      "cell_type": "code",
      "source": [
        "def joinIntersections(graph):\n",
        "    n = len(graph)\n",
        "    \n",
        "    for i in range(n):\n",
        "        \n",
        "        for j in range(len(graph[i])):\n",
        "\n",
        "            addIntersections(graph, i, j)\n",
        "            addIntersectionsReversed(graph, i, j)"
      ],
      "metadata": {
        "id": "kZCXXHwk50Ho"
      },
      "execution_count": 29,
      "outputs": []
    },
    {
      "cell_type": "code",
      "source": [
        "# Diccionario que va a guardar la unión de todas las intersecciones\n",
        "map = dict()\n",
        "# crea las llaves en el diccionario \"map\"\n",
        "map = createKeys(intersectionsAdList)\n",
        "\n",
        "joinIntersections(intersectionsAdList)\n",
        "\n",
        "amountNodes = 0 \n",
        "\n",
        "for key, value in map.items():\n",
        "    amountNodes += len(value)\n",
        "    print(key, \":\", value)\n",
        "\n",
        "#print(f\"Cantidad de nodos: {amountNodes}\")"
      ],
      "metadata": {
        "id": "rZ0K3Io2RT03"
      },
      "execution_count": null,
      "outputs": []
    },
    {
      "cell_type": "markdown",
      "source": [
        "###**Write to file**"
      ],
      "metadata": {
        "id": "RGur0l6rdqAS"
      }
    },
    {
      "cell_type": "code",
      "source": [
        "def latAndlong():\n",
        "    with open(\"latlong.txt\", \"w\") as f:\n",
        "        with open('Calles de San Martín de Porres.csv') as file: \n",
        "            reader = csv.reader(file)\n",
        "\n",
        "            for row in reader:\n",
        "                for i in range(1, len(row)):                    \n",
        "                    f.write(f\"{row[0]}, {row[i]}\\n\")    \n",
        "\n",
        "latAndlong()"
      ],
      "metadata": {
        "id": "E_-CDP5DXzNX"
      },
      "execution_count": null,
      "outputs": []
    },
    {
      "cell_type": "code",
      "source": [
        "# Write Streets Dictionary\n",
        "def writeStreetsDictionary():\n",
        "    with open(\"streetNames.txt\", \"w\") as f:\n",
        "        for key, value in streetsDictionary.items():\n",
        "            f.write(key + \"\\n\")\n",
        "\n",
        "writeStreetsDictionary()"
      ],
      "metadata": {
        "id": "SE4BMbtDdoFl"
      },
      "execution_count": null,
      "outputs": []
    },
    {
      "cell_type": "code",
      "source": [
        "# Write Intersections Adjacency List\n",
        "def writeStreetsAdList():\n",
        "    with open(\"streetsAdList.txt\", \"w\") as f:\n",
        "        for streets in intersectionsAdList:\n",
        "            for i in range(len(streets)):\n",
        "                streets[i] = str(streets[i])\n",
        "            \n",
        "            f.write(', '.join(streets) + \"\\n\")\n",
        "        \n",
        "writeStreetsAdList()"
      ],
      "metadata": {
        "id": "gOBUCQUcl5Ay"
      },
      "execution_count": null,
      "outputs": []
    },
    {
      "cell_type": "code",
      "source": [
        "# Write street map\n",
        "def writeStreetMap():\n",
        "    with open(\"map.txt\", \"w\") as f:\n",
        "        \n",
        "        for key, value in map.items():\n",
        "            listWOCommas = (str(value).strip('[]')).replace(\",\", \"\")\n",
        "            f.write(str(key) + \" \" + listWOCommas + '\\n')\n",
        "            \n",
        "writeStreetMap()"
      ],
      "metadata": {
        "id": "wQy0a94GsHFk"
      },
      "execution_count": null,
      "outputs": []
    }
  ]
}