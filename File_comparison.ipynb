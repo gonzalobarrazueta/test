{
  "nbformat": 4,
  "nbformat_minor": 0,
  "metadata": {
    "colab": {
      "name": "File comparison.ipynb",
      "provenance": [],
      "authorship_tag": "ABX9TyNsbFqGfeoIejg0oIhdg3+n",
      "include_colab_link": true
    },
    "kernelspec": {
      "name": "python3",
      "display_name": "Python 3"
    },
    "language_info": {
      "name": "python"
    }
  },
  "cells": [
    {
      "cell_type": "markdown",
      "metadata": {
        "id": "view-in-github",
        "colab_type": "text"
      },
      "source": [
        "<a href=\"https://colab.research.google.com/github/gonzalobarrazueta/test/blob/main/File_comparison.ipynb\" target=\"_parent\"><img src=\"https://colab.research.google.com/assets/colab-badge.svg\" alt=\"Open In Colab\"/></a>"
      ]
    },
    {
      "cell_type": "markdown",
      "source": [
        "##**Testing**"
      ],
      "metadata": {
        "id": "4VjjUk4kEW9n"
      }
    },
    {
      "cell_type": "code",
      "execution_count": null,
      "metadata": {
        "id": "k8zJWxQlHUV5"
      },
      "outputs": [],
      "source": [
        "import csv"
      ]
    },
    {
      "cell_type": "code",
      "source": [
        "def compareFiles(fileName1, fileName2):\n",
        "    with open(fileName1) as f1, open(fileName2) as f2:\n",
        "        reader1 = csv.reader(f1)\n",
        "        reader2 = csv.reader(f2)\n",
        "\n",
        "        calles1 = []\n",
        "        calles2 = []\n",
        "\n",
        "        for row in reader1:\n",
        "            t = tuple(); i = 0\n",
        "            for n in row:\n",
        "                if i < 2:\n",
        "                    t += (n.lower().strip(), )\n",
        "                i += 1\n",
        "            calles1.append(t)\n",
        "\n",
        "        for row in reader2:\n",
        "            t = tuple(); i = 0\n",
        "            for n in row:\n",
        "                if i < 2:\n",
        "                    t += (n.lower().strip(), )\n",
        "                i += 1\n",
        "            calles2.append(t)\n",
        "        \n",
        "        #las que se tienen que eliminar del archivo de latitudes y longitudes\n",
        "        #with open(\"deleteTheseStreets.txt\", \"w\") as f:\n",
        "        #    for i, intersection in enumerate(calles1):\n",
        "        #        if intersection not in calles2:\n",
        "        #            f.write(f\"{i + 2} {intersection}\\n\")\n",
        "        #            print(f\"{i + 2} {intersection}\")\n",
        "        \n",
        "        #las que se tienen que agregar al archivo de latitudes y longitudes\n",
        "        with open(\"addTheseStreets.txt\", \"w\") as f:\n",
        "            for i, intersection in enumerate(calles2):\n",
        "                if intersection not in calles1:\n",
        "                    a, b = intersection\n",
        "                    f.write(f\"{a},{b}\\n\")\n",
        "                    print(f\"{a}, {b}\")\n",
        "\n",
        "compareFiles(\"CALLES1.txt\", \"CALLES2(COMPLETO).txt\")"
      ],
      "metadata": {
        "colab": {
          "base_uri": "https://localhost:8080/"
        },
        "id": "It4JnMTXJiF_",
        "outputId": "4e4484f5-71a2-4138-a05f-199bbb324a5e"
      },
      "execution_count": null,
      "outputs": [
        {
          "output_type": "stream",
          "name": "stdout",
          "text": [
            "avenida naranjal, calle las orquideas\n",
            "avenida naranjal, jircan\n",
            "avenida naranjal, san sebastian\n",
            "calle e, los pacaes\n",
            "calle e, avenida el sauce\n",
            "calle 28 de mayo, los alelis\n",
            "calle 28 de mayo, las cantutas\n",
            "calle llata, avenida tantamayo\n",
            "jiron las americas, circa las dalias\n",
            "los canamos, avenda san jose\n",
            "calle las esmeraldas, calle los pinos\n",
            "las orquideas, los ficus\n",
            "calle los jazmines, calle las palmeras\n",
            "los geranios 1, calle las palmeras\n",
            "avenida alejandro bertello bollati, avenida tomas valle\n",
            "calle las perlas, calle los topacios\n",
            "calle las perlas, calle los pinos\n",
            "las margaritas, las dalias\n",
            "santa maria, las dalias\n",
            "tumbes, san antonio\n",
            "san juan, avenida antigua de pacasmayo\n",
            "calle carhuaz, calle caraz\n",
            "calle las margaritas, calle las palmeras\n",
            "avenida canada, pucara\n",
            "pasaje tambomachay, pasaje madre de dios\n",
            "pasaje tambomachay, pasaje abancay\n",
            "jose francisco, pucara\n",
            "pucura, pasaje abancay\n",
            "pucura, pasaje madre de dios\n",
            "pasaje jorge colque, pasaje abancay\n",
            "avenida san juan macias, pasaje abancay\n",
            "pasaje tumbes, pucara\n",
            "pasaje tumbes, pasaje jose frizancho\n",
            "alisos, rosales\n",
            "avenida boca negra, avenida los nenufares\n",
            "avenida boca negra, avenida independencia\n",
            "los pinos, rosales\n",
            "avenida los proceres, avenida tomas valle\n",
            "avenida los proceres, calle cesar vallejo\n",
            "avenida los proceres, avenida german aguirre\n",
            "avenida los proceres, torre tagle\n",
            "auxiliar avenida angelica gamarra, jiron vizcardo y guzman\n",
            "auxiliar avenida angelica gamarra, avenida 12 de octubre\n",
            "avenida angelica gamarra, calle los libertadores\n",
            "avenida angelica gamarra, jiron vizcardo y guzman\n",
            "avenida angelica gamarra, avenida 12 de octubre\n",
            "auxiliar avenida tomas valle, jiron las codornices\n",
            "avenida tomas valle, jiron las codornices\n",
            "avenida tomas valle, calle pedro unanue\n",
            "avenida tomas valle, avenida universitaria\n",
            "avenida el olivar, jiron los codornices\n",
            "avenida el olivar, margaritas\n",
            "jiron los codornices, avenida tomas valle\n",
            "jiron los codornices, auxiliar avenida tomas valle\n",
            "jiron los codornices, el jilguero\n",
            "jiron los codornices, avenida el olivar\n",
            "jiron los codornices, margaritas\n",
            "jiron los codornices, los tumbos\n",
            "jiron los codornices, avenida condevilla\n",
            "jiron los codornices, calle las retamas\n",
            "calle cesar vallejo, avenida los proceres\n",
            "calle cesar vallejo, calle cesar vallejo\n",
            "calle cesar vallejo, calle los quinuales\n",
            "calle cesar vallejo, jose santos chocano\n",
            "calle cesar vallejo, pedro ruiz gallo\n",
            "calle cesar vallejo, luis alberto sanchez\n",
            "calle las retamas, jiron los codornices\n",
            "calle las retamas, margaritas\n",
            "jiron los sauces, calle los quinuales\n",
            "jiron pedro genaro delgado, torre tagle\n",
            "jiron pedro genaro delgado, andres avelino caceres\n",
            "jiron pedro genaro delgado, thomas cochrane\n",
            "jiron pedro genaro delgado, avenida jose granda\n",
            "avenida german aguirre, jose santos chocano\n",
            "avenida german aguirre, clemente palma\n",
            "avenida german aguirre, jiron isolina soto\n",
            "avenida german aguirre, avenida universitaria\n",
            "torre tagle, avenida los proceres\n",
            "torre tagle, jiron leonardo ortiz salcedo\n",
            "torre tagle, jiron pedro genaro delgado\n",
            "domingo nieto, jose santos chocano\n",
            "arnaldo marquez, pedro bermudez\n",
            "arnaldo marquez, agustin gamarra\n",
            "ignacio alvarez thomas, pedro bermudez\n",
            "ignacio alvarez thomas, jose galvez\n",
            "ignacio alvarez thomas, jiron leonardo ortiz salcedo\n",
            "jiron jose maria cordova, jose galvez\n",
            "jiron jose maria cordova, quijano lazo\n",
            "jiron jose maria cordova, mendiburu y bonet\n",
            "avenida jose granda, jiron pedro genaro delgado\n",
            "avenida jose granda, jose m eguren\n",
            "jiron pedro genaro delgado, avenida jose granda\n",
            "jose m eguren, avenida jose granda\n"
          ]
        }
      ]
    }
  ]
}